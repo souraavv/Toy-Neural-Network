{
 "cells": [
  {
   "cell_type": "code",
   "execution_count": null,
   "metadata": {
    "scrolled": true
   },
   "outputs": [],
   "source": [
    "actfn1 = 'logistic'\n",
    "actfn2 = 'relu'\n",
    "actfn3 = 'tanh'\n",
    "alpha1 = 0.001\n",
    "alpha2 = 0.05\n",
    "epochs = 2000\n",
    "split_ratio = 0.8\n",
    "read_records = 569\n",
    "batch_cnt = 20\n",
    "batch_sz = int(read_records * split_ratio / batch_cnt)\n"
   ]
  },
  {
   "cell_type": "code",
   "execution_count": null,
   "metadata": {
    "scrolled": true
   },
   "outputs": [],
   "source": [
    "import pandas as pd\n",
    "data = pd.read_csv('./src/data.csv', header=0)\n",
    "\n",
    "labels = data['diagnosis']\n",
    "data = data.drop(labels=['id', 'diagnosis'], axis = 1)\n",
    "data = data[:read_records]\n",
    "labels = labels[:read_records]"
   ]
  },
  {
   "cell_type": "code",
   "execution_count": null,
   "metadata": {},
   "outputs": [],
   "source": [
    "from sklearn.model_selection import train_test_split\n",
    "train_x, test_x, train_y, test_y = train_test_split(data, labels, train_size=split_ratio, random_state=1, shuffle=False)"
   ]
  },
  {
   "cell_type": "code",
   "execution_count": null,
   "metadata": {},
   "outputs": [],
   "source": [
    "from sklearn.preprocessing import StandardScaler\n",
    "train_sc, test_sc = StandardScaler(), StandardScaler()\n",
    "train_x = train_sc.fit_transform(train_x)\n",
    "test_x = test_sc.fit_transform(test_x)"
   ]
  },
  {
   "cell_type": "code",
   "execution_count": null,
   "metadata": {},
   "outputs": [],
   "source": [
    "from sklearn.neural_network import MLPClassifier\n",
    "from matplotlib import pyplot as plt\n",
    "import pandas as pd\n",
    "import numpy as np\n",
    "\n",
    "myclassifier = MLPClassifier(hidden_layer_sizes=(55,), \n",
    "                                activation=actfn1, \n",
    "                                solver='sgd', \n",
    "                                learning_rate_init=alpha1, \n",
    "                                max_iter=epochs, \n",
    "                                shuffle=False, \n",
    "                                random_state=1,\n",
    "                                n_iter_no_change=epochs)\n",
    "myclassifier.fit(train_x, train_y)\n",
    "myclassifier.predict(test_x)\n",
    "print(f'Accuracy for training :: {myclassifier.score(train_x, train_y)}')\n",
    "print(f'Accuracy for testing :: {myclassifier.score(test_x, test_y)}')\n",
    "datasgd = pd.read_csv('c_stoc.data', header=None)\n",
    "x = datasgd[0]\n",
    "y = datasgd[1]\n",
    "plt.plot(np.arange(myclassifier.n_iter_), myclassifier.loss_curve_, color='g', label='Python')\n",
    "plt.plot(x, y, color='r', label='C Library')\n",
    "plt.legend()\n",
    "plt.title(\"Stochastic \") \n",
    "plt.xlabel(\"Epochs\")\n",
    "plt.ylabel(\"Cost Function\")"
   ]
  },
  {
   "cell_type": "code",
   "execution_count": null,
   "metadata": {},
   "outputs": [],
   "source": [
    "from sklearn.neural_network import MLPClassifier\n",
    "from matplotlib import pyplot as plt\n",
    "import pandas as pd\n",
    "import numpy as np\n",
    "\n",
    "myclassifier = MLPClassifier(hidden_layer_sizes=(60,), \n",
    "                                activation=actfn1, \n",
    "                                solver='sgd', \n",
    "                                learning_rate_init=alpha1, \n",
    "                                max_iter=epochs, \n",
    "                                shuffle=False, \n",
    "                                batch_size = train_x.shape[0],\n",
    "                                random_state=1,\n",
    "                                n_iter_no_change=epochs)\n",
    "myclassifier.fit(train_x, train_y)\n",
    "myclassifier.predict(test_x)\n",
    "print(f'Accuracy for training :: {myclassifier.score(train_x, train_y)}')\n",
    "print(f'Accuracy for testing :: {myclassifier.score(test_x, test_y)}')\n",
    "data_sgd = pd.read_csv('c_batch.data', header=None)\n",
    "x = data_sgd[0]\n",
    "y = data_sgd[1]\n",
    "plt.plot(np.arange(myclassifier.n_iter_), myclassifier.loss_curve_, color='g', label='Python')\n",
    "plt.plot(x, y, color='r', label='C Library')\n",
    "plt.legend()\n",
    "plt.title(\"Batch Gradient Descent\") \n",
    "plt.xlabel(\"Epochs\")\n",
    "plt.ylabel(\"Cost Function\")"
   ]
  },
  {
   "cell_type": "code",
   "execution_count": null,
   "metadata": {},
   "outputs": [],
   "source": [
    "from sklearn.neural_network import MLPClassifier\n",
    "from matplotlib import pyplot as plt\n",
    "import pandas as pd\n",
    "import numpy as np\n",
    "\n",
    "myclassifier = MLPClassifier(hidden_layer_sizes=(60,), \n",
    "                                activation=actfn2, \n",
    "                                solver='sgd', \n",
    "                                learning_rate_init=alpha1, \n",
    "                                max_iter=epochs, \n",
    "                                shuffle=False, \n",
    "                                batch_size = train_x.shape[0],\n",
    "                                random_state=1,\n",
    "                                n_iter_no_change=epochs)\n",
    "myclassifier.fit(train_x, train_y)\n",
    "myclassifier.predict(test_x)\n",
    "\n",
    "print(f'Accuracy for training :: {myclassifier.score(train_x, train_y)}')\n",
    "print(f'Accuracy for testing :: {myclassifier.score(test_x, test_y)}')\n",
    "\n",
    "data_sgd = pd.read_csv('c_minibatch.data', header=None)\n",
    "x = data_sgd[0]\n",
    "y = data_sgd[1]\n",
    "plt.plot(np.arange(myclassifier.n_iter_), myclassifier.loss_curve_, color='g', label='Python')\n",
    "plt.plot(x, y, color='r', label='C Library')\n",
    "plt.legend()\n",
    "plt.title(\"Mini-Batch Gradient Descent\") \n",
    "plt.xlabel(\"Epochs\")\n",
    "plt.ylabel(\"Cost Function\")"
   ]
  }
 ],
 "metadata": {
  "kernelspec": {
   "display_name": "Python 3.8.10 64-bit",
   "language": "python",
   "name": "python3"
  },
  "language_info": {
   "codemirror_mode": {
    "name": "ipython",
    "version": 3
   },
   "file_extension": ".py",
   "mimetype": "text/x-python",
   "name": "python",
   "nbconvert_exporter": "python",
   "pygments_lexer": "ipython3",
   "version": "3.8.10"
  },
  "vscode": {
   "interpreter": {
    "hash": "31f2aee4e71d21fbe5cf8b01ff0e069b9275f58929596ceb00d14d90e3e16cd6"
   }
  }
 },
 "nbformat": 4,
 "nbformat_minor": 2
}
