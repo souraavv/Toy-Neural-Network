{
 "cells": [
  {
   "cell_type": "code",
   "execution_count": null,
   "metadata": {},
   "outputs": [],
   "source": [
    "act_fn = 'relu'\n",
    "alpha = 0.000001\n",
    "epochs = 2000\n",
    "split_ratio = 0.8\n",
    "read_records = 506\n",
    "batch_cnt = 25\n",
    "\n",
    "sgdfile = 'r_stoc.data'\n",
    "bgdfile = 'r_batch.data'\n",
    "mbgdfile = 'r_minibatch.data'"
   ]
  },
  {
   "cell_type": "code",
   "execution_count": null,
   "metadata": {},
   "outputs": [],
   "source": [
    "import pandas as pd\n",
    "data = pd.read_csv('./src/housing_pp.csv', header=None)\n",
    "data = data[:read_records]\n",
    "\n",
    "labels = data[14]\n",
    "data = data.iloc[:,1:14]"
   ]
  },
  {
   "cell_type": "code",
   "execution_count": null,
   "metadata": {},
   "outputs": [],
   "source": [
    "from sklearn.model_selection import train_test_split\n",
    "train_x, test_x, train_y, test_y = train_test_split(data, labels, train_size=split_ratio, random_state=21, shuffle=False)"
   ]
  },
  {
   "cell_type": "code",
   "execution_count": null,
   "metadata": {},
   "outputs": [],
   "source": [
    "from sklearn.neural_network import MLPRegressor #stochastic\n",
    "myregressor = MLPRegressor(hidden_layer_sizes=(65,), \n",
    "                            activation=act_fn, \n",
    "                            solver='sgd', \n",
    "                            learning_rate_init=alpha, \n",
    "                            max_iter=epochs, \n",
    "                            shuffle=True, \n",
    "                            random_state=21,\n",
    "                            n_iter_no_change=epochs)\n",
    "myregressor.fit(train_x, train_y)\n",
    "myregressor.predict(test_x)\n",
    "import pandas as pd\n",
    "curdata = pd.read_csv(sgdfile, sep=',', header=None)\n",
    "x = curdata[0]\n",
    "y = curdata[1]\n",
    "from matplotlib import pyplot as plt\n",
    "import numpy as np\n",
    "plt.plot(np.arange(myregressor.n_iter_), myregressor.loss_curve_, color='r', label='Python')\n",
    "plt.plot(x, y, color='g', label='C Library')\n",
    "plt.legend()\n",
    "plt.title(\"Stochastic Gradient Descent\")\n",
    "plt.xlabel(\"Epochs\")\n",
    "plt.ylabel(\"Loss Function\")"
   ]
  },
  {
   "cell_type": "code",
   "execution_count": null,
   "metadata": {},
   "outputs": [],
   "source": [
    "from sklearn.neural_network import MLPRegressor #minibatch\n",
    "from matplotlib import pyplot as plt\n",
    "import numpy as np\n",
    "import pandas as pd\n",
    "batch_sz = int(read_records * split_ratio / batch_cnt)\n",
    "myregressor = MLPRegressor(hidden_layer_sizes=(65,), \n",
    "                            activation=act_fn, \n",
    "                            solver='sgd', \n",
    "                            learning_rate_init=alpha,\n",
    "                            batch_size=batch_sz,\n",
    "                            max_iter=epochs, \n",
    "                            shuffle=False, \n",
    "                            random_state=1,\n",
    "                            n_iter_no_change=epochs)\n",
    "myregressor.fit(train_x, train_y)\n",
    "myregressor.predict(test_x)\n",
    "\n",
    "curdata = pd.read_csv(mbgdfile, sep=',', header=None)\n",
    "x = curdata[0]\n",
    "y = curdata[1]\n",
    "\n",
    "plt.plot(np.arange(myregressor.n_iter_), myregressor.loss_curve_, color='r', label='Python')\n",
    "plt.plot(x, y, color='g', label='C Library')\n",
    "plt.legend()\n",
    "plt.title(f\"Mini Batch Gradient Descent (#Mini-batches = {batch_cnt})\")\n",
    "plt.xlabel(\"Epochs\")\n",
    "plt.ylabel(\"Loss Function\")"
   ]
  },
  {
   "cell_type": "code",
   "execution_count": null,
   "metadata": {},
   "outputs": [],
   "source": [
    "from sklearn.neural_network import MLPRegressor # batch\n",
    "regressor_bgd = MLPRegressor(hidden_layer_sizes=(65,), \n",
    "                            activation=act_fn, \n",
    "                            solver='sgd', \n",
    "                            learning_rate_init=alpha,\n",
    "                            batch_size=train_x.shape[0],\n",
    "                            max_iter=epochs, \n",
    "                            shuffle=True, \n",
    "                            random_state=21,\n",
    "                            n_iter_no_change=epochs)\n",
    "myregressor.fit(train_x, train_y)\n",
    "myregressor.predict(test_x)\n",
    "myregressor.loss_curve_\n",
    "import pandas as pd\n",
    "curdata = pd.read_csv(bgdfile, sep=',', header=None)\n",
    "x = curdata[0]\n",
    "y = curdata[1]\n",
    "from matplotlib import pyplot as plt\n",
    "import numpy as np\n",
    "plt.plot(np.arange(myregressor.n_iter_), myregressor.loss_curve_, color='r', label='Python')\n",
    "plt.plot(x, y, color='g', label='C Library')\n",
    "plt.legend()\n",
    "plt.title(\"Batch Gradient Descent\")\n",
    "plt.xlabel(\"Epochs\")\n",
    "plt.ylabel(\"Loss Function\")"
   ]
  }
 ],
 "metadata": {
  "kernelspec": {
   "display_name": "Python 3.8.10 64-bit",
   "language": "python",
   "name": "python3"
  },
  "language_info": {
   "codemirror_mode": {
    "name": "ipython",
    "version": 3
   },
   "file_extension": ".py",
   "mimetype": "text/x-python",
   "name": "python",
   "nbconvert_exporter": "python",
   "pygments_lexer": "ipython3",
   "version": "3.8.10"
  },
  "vscode": {
   "interpreter": {
    "hash": "31f2aee4e71d21fbe5cf8b01ff0e069b9275f58929596ceb00d14d90e3e16cd6"
   }
  }
 },
 "nbformat": 4,
 "nbformat_minor": 2
}
